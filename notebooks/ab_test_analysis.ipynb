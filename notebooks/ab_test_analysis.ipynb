{
 "cells": [
  {
   "metadata": {},
   "cell_type": "markdown",
   "source": [
    "# A/B Test Analysis — Olist Marketplace\n",
    "\n",
    "Evaluate the impact of a new feature using simulated A/B groups on customer behavior and marketplace KPIs\n",
    "\n",
    "\n"
   ],
   "id": "42754cf7b911beaa"
  },
  {
   "metadata": {},
   "cell_type": "markdown",
   "source": [
    "## What is A/B Testing?\n",
    "\n",
    "A/B testing is a controlled statistical experiment where two versions (A and B) of a system are presented to different groups of users to determine which version performs better on a defined metric.\n",
    "\n",
    "Formally, it's a **randomized control trial** — where the effect of a single variable is isolated by random assignment and statistically tested for significance.\n",
    "\n",
    "**Example:**\n",
    "Imagine Netflix is experimenting with two different thumbnails for the same movie. Half the users see version A (the existing poster), and half see version B (a new, more vibrant one). If more users from Group B end up clicking and watching, that design might be more engaging.\n",
    "\n",
    "---\n",
    "\n",
    "## Why and When Do We Need A/B Testing?\n",
    "\n",
    "### Why it's important:\n",
    "- It reduces **assumptions** in product development.\n",
    "- Ensures **evidence-based rollouts**.\n",
    "- Helps **quantify impact** of new features before a full release.\n",
    "\n",
    "### When to use it:\n",
    "- Introducing **new product features** (filters, banners, personalization).\n",
    "- Optimizing **checkout flows** or conversion funnels.\n",
    "- Testing **marketing creatives**, pricing strategies, or onboarding flows.\n",
    "\n",
    "---\n",
    "\n",
    "## How to Choose Features & Plan the Test (Given a Dataset)\n",
    "\n",
    "Start by asking: **What outcome do we care about?** That becomes your primary KPI (Key Performance Indicator).\n",
    "\n",
    "### Step-by-step:\n",
    "1. **Define user-level or session-level behavior** — conversion, time on page, reviews\n",
    "2. **Identify influencing variables** — product category, customer region, platform\n",
    "3. **Split users** randomly into control (A) and test (B) groups\n",
    "4. **Log outcomes** for both groups\n",
    "\n",
    "### Example with our Dataset:\n",
    "We used the Olist E-commerce dataset, which contains:\n",
    "- `orders`: timestamps, statuses\n",
    "- `payments`: order value\n",
    "- `reviews`: satisfaction\n",
    "- `customers`: geographic context\n",
    "\n",
    "Refer to: [`data_dictionary.md`](../data_dictionary.md) for full schema mapping.\n",
    "\n",
    "---\n",
    "\n",
    "## Experiment Goals & Hypothesis Framing\n",
    "\n",
    "### Goal:\n",
    "Simulate a feature rollout (e.g., smart filter) and test whether it leads to measurable user behavior improvements.\n",
    "\n",
    "### Hypotheses:\n",
    "- **H₀ (Null):** There is no difference between control and treatment groups.\n",
    "- **H₁ (Alternative):** The new feature improves conversion, satisfaction, or revenue.\n",
    "\n",
    "See detailed structure in: [`hypothesis_plan.md`](../hypothesis_plan.md)\n",
    "\n",
    "---\n",
    "\n",
    "## KPI Analysis: Metrics We Measured\n",
    "\n",
    "| KPI                   | Description                                |\n",
    "|-----------------------|--------------------------------------------|\n",
    "| Conversion Rate       | Delivered orders / Total orders           |\n",
    "| Avg Order Value       | Mean value of completed payments          |\n",
    "| Review Score          | Average satisfaction from 1 to 5 stars    |\n",
    "| Delivery Duration     | Time between purchase and delivery (days) |\n",
    "\n",
    "We calculated these KPIs grouped by A/B flag and stored in:\n",
    "```sql\n",
    "ab_group_metrics\n",
    "```"
   ],
   "id": "bc13728ed885c9fb"
  },
  {
   "cell_type": "code",
   "id": "initial_id",
   "metadata": {
    "collapsed": true,
    "ExecuteTime": {
     "end_time": "2025-06-11T12:37:38.692945Z",
     "start_time": "2025-06-11T12:37:38.492433Z"
    }
   },
   "source": [
    "import os\n",
    "import pandas as pd\n",
    "import matplotlib.pyplot as plt\n",
    "import seaborn as sns\n",
    "from scipy import stats\n",
    "from statsmodels.stats.proportion import proportions_ztest\n",
    "from google.cloud import bigquery, bigquery_storage\n",
    "from dotenv import load_dotenv"
   ],
   "outputs": [],
   "execution_count": 2
  },
  {
   "metadata": {
    "ExecuteTime": {
     "end_time": "2025-06-11T12:37:44.047726Z",
     "start_time": "2025-06-11T12:37:44.036774Z"
    }
   },
   "cell_type": "code",
   "source": [
    "# Load environment\n",
    "load_dotenv()\n",
    "project_id = os.getenv(\"GCP_PROJECT_ID\")\n",
    "client = bigquery.Client(project=project_id)"
   ],
   "id": "a70d9d8af8a57a25",
   "outputs": [],
   "execution_count": 3
  },
  {
   "metadata": {
    "ExecuteTime": {
     "end_time": "2025-06-11T12:37:54.834790Z",
     "start_time": "2025-06-11T12:37:54.832638Z"
    }
   },
   "cell_type": "code",
   "source": [
    "# Style\n",
    "sns.set(style=\"whitegrid\")\n",
    "plt.rcParams[\"figure.figsize\"] = (12, 6)"
   ],
   "id": "3be19e7e336fc4b3",
   "outputs": [],
   "execution_count": 4
  },
  {
   "metadata": {},
   "cell_type": "markdown",
   "source": [
    "## Load Precomputed Group-Level KPIs\n",
    "We reuse `conversion_metrics.sql` to analyze key performance indicators."
   ],
   "id": "ff2279595b9132a4"
  },
  {
   "metadata": {
    "ExecuteTime": {
     "end_time": "2025-06-11T12:43:18.246049Z",
     "start_time": "2025-06-11T12:43:16.136358Z"
    }
   },
   "cell_type": "code",
   "source": [
    "query = \"\"\"\n",
    "SELECT *\n",
    "FROM `ab-testing-analytics.marketplace_ab_test.ab_group_metrics`\n",
    "\"\"\"\n",
    "df_kpis = client.query(query).to_dataframe()\n",
    "df_kpis.set_index(\"ab_group\", inplace=True)\n",
    "df_kpis"
   ],
   "id": "c02fe1f62c5fbb17",
   "outputs": [
    {
     "data": {
      "text/plain": [
       "          total_orders  delivered_orders  conversion_rate  avg_order_value  \\\n",
       "ab_group                                                                     \n",
       "B                49778             50701            1.019           153.84   \n",
       "A                49663             50625            1.019           154.01   \n",
       "\n",
       "          avg_delivery_days  avg_review_score  review_rate  \n",
       "ab_group                                                    \n",
       "B                     12.11              4.09        0.994  \n",
       "A                     12.12              4.08        0.993  "
      ],
      "text/html": [
       "<div>\n",
       "<style scoped>\n",
       "    .dataframe tbody tr th:only-of-type {\n",
       "        vertical-align: middle;\n",
       "    }\n",
       "\n",
       "    .dataframe tbody tr th {\n",
       "        vertical-align: top;\n",
       "    }\n",
       "\n",
       "    .dataframe thead th {\n",
       "        text-align: right;\n",
       "    }\n",
       "</style>\n",
       "<table border=\"1\" class=\"dataframe\">\n",
       "  <thead>\n",
       "    <tr style=\"text-align: right;\">\n",
       "      <th></th>\n",
       "      <th>total_orders</th>\n",
       "      <th>delivered_orders</th>\n",
       "      <th>conversion_rate</th>\n",
       "      <th>avg_order_value</th>\n",
       "      <th>avg_delivery_days</th>\n",
       "      <th>avg_review_score</th>\n",
       "      <th>review_rate</th>\n",
       "    </tr>\n",
       "    <tr>\n",
       "      <th>ab_group</th>\n",
       "      <th></th>\n",
       "      <th></th>\n",
       "      <th></th>\n",
       "      <th></th>\n",
       "      <th></th>\n",
       "      <th></th>\n",
       "      <th></th>\n",
       "    </tr>\n",
       "  </thead>\n",
       "  <tbody>\n",
       "    <tr>\n",
       "      <th>B</th>\n",
       "      <td>49778</td>\n",
       "      <td>50701</td>\n",
       "      <td>1.019</td>\n",
       "      <td>153.84</td>\n",
       "      <td>12.11</td>\n",
       "      <td>4.09</td>\n",
       "      <td>0.994</td>\n",
       "    </tr>\n",
       "    <tr>\n",
       "      <th>A</th>\n",
       "      <td>49663</td>\n",
       "      <td>50625</td>\n",
       "      <td>1.019</td>\n",
       "      <td>154.01</td>\n",
       "      <td>12.12</td>\n",
       "      <td>4.08</td>\n",
       "      <td>0.993</td>\n",
       "    </tr>\n",
       "  </tbody>\n",
       "</table>\n",
       "</div>"
      ]
     },
     "execution_count": 6,
     "metadata": {},
     "output_type": "execute_result"
    }
   ],
   "execution_count": 6
  },
  {
   "metadata": {
    "ExecuteTime": {
     "end_time": "2025-06-11T12:45:20.502908Z",
     "start_time": "2025-06-11T12:45:20.303232Z"
    }
   },
   "cell_type": "code",
   "source": [
    "num_kpis = len(df_kpis.columns)\n",
    "nrows = (num_kpis + 1) // 2\n",
    "layout = (nrows, 2)\n",
    "\n",
    "ax = df_kpis.plot(kind=\"bar\", subplots=True, layout=layout, legend=False, sharex=True, sharey=False)\n",
    "plt.suptitle(\"KPI Comparison Between Group A and Group B\", fontsize=16)\n",
    "plt.tight_layout()\n",
    "plt.show()"
   ],
   "id": "9cc44c19bb0a3d5e",
   "outputs": [
    {
     "data": {
      "text/plain": [
       "<Figure size 1200x600 with 8 Axes>"
      ],
      "image/png": "[encoded data removed]"
     },
     "metadata": {},
     "output_type": "display_data"
    }
   ],
   "execution_count": 8
  },
  {
   "metadata": {
    "ExecuteTime": {
     "end_time": "2025-06-11T12:46:58.944909Z",
     "start_time": "2025-06-11T12:46:51.207166Z"
    }
   },
   "cell_type": "code",
   "source": [
    "query = \"\"\"\n",
    "SELECT *\n",
    "FROM `ab-testing-analytics.marketplace_ab_test.orders_with_groups`\n",
    "WHERE order_status IS NOT NULL AND order_purchase_timestamp IS NOT NULL\n",
    "\"\"\"\n",
    "df_orders = client.query(query).to_dataframe()\n",
    "\n",
    "# Convert timestamp to datetime\n",
    "df_orders[\"order_purchase_timestamp\"] = pd.to_datetime(df_orders[\"order_purchase_timestamp\"])\n",
    "df_orders[\"order_delivered_customer_date\"] = pd.to_datetime(df_orders[\"order_delivered_customer_date\"])\n",
    "df_orders[\"delivery_days\"] = (df_orders[\"order_delivered_customer_date\"] - df_orders[\"order_purchase_timestamp\"]).dt.days"
   ],
   "id": "b760f767d90bd2b9",
   "outputs": [],
   "execution_count": 9
  },
  {
   "metadata": {},
   "cell_type": "markdown",
   "source": [
    "## Statistical Tests Used\n",
    "\n",
    "We used standard parametric hypothesis tests:\n",
    "\n",
    "### 1. Z-Test (for Proportions like Conversion Rate)\n",
    "$\n",
    "z = \\frac{p_1 - p_2}{\\sqrt{p(1-p)(\\frac{1}{n_1} + \\frac{1}{n_2})}}\n",
    "$\n",
    "- Tests if difference between proportions is statistically significant\n",
    "\n",
    "### 2. T-Test (for Means like AOV, Delivery Days)\n",
    "$\n",
    "t = \\frac{\\bar{x}_1 - \\bar{x}_2}{\\sqrt{\\frac{s_1^2}{n_1} + \\frac{s_2^2}{n_2}}}\n",
    "$\n",
    "- Tests if mean difference between groups is significant"
   ],
   "id": "483f0ad8f792fc76"
  },
  {
   "metadata": {
    "ExecuteTime": {
     "end_time": "2025-06-11T12:47:15.337640Z",
     "start_time": "2025-06-11T12:47:15.295475Z"
    }
   },
   "cell_type": "code",
   "source": [
    "conv_a = df_orders[df_orders.ab_group == \"A\"].order_status.eq(\"delivered\").sum()\n",
    "total_a = df_orders[df_orders.ab_group == \"A\"].shape[0]\n",
    "conv_b = df_orders[df_orders.ab_group == \"B\"].order_status.eq(\"delivered\").sum()\n",
    "total_b = df_orders[df_orders.ab_group == \"B\"].shape[0]\n",
    "\n",
    "z_stat, pval = proportions_ztest([conv_a, conv_b], [total_a, total_b])\n",
    "print(f\"Z-Test (Conversion Rate) — p-value: {pval:.4f}\")"
   ],
   "id": "9f56114d2bc319fa",
   "outputs": [
    {
     "name": "stdout",
     "output_type": "stream",
     "text": [
      "Z-Test (Conversion Rate) — p-value: 0.4969\n"
     ]
    }
   ],
   "execution_count": 10
  },
  {
   "metadata": {},
   "cell_type": "markdown",
   "source": "## Test 2: Average Order Value (T-test)",
   "id": "230b8247d79d8c2b"
  },
  {
   "metadata": {
    "ExecuteTime": {
     "end_time": "2025-06-11T12:47:45.423707Z",
     "start_time": "2025-06-11T12:47:41.548157Z"
    }
   },
   "cell_type": "code",
   "source": [
    "query = \"\"\"\n",
    "SELECT og.ab_group, p.payment_value\n",
    "FROM `ab-testing-analytics.marketplace_ab_test.orders_with_groups` og\n",
    "JOIN `ab-testing-analytics.marketplace_ab_test.payments` p\n",
    "ON og.order_id = p.order_id\n",
    "\"\"\"\n",
    "df_pay = client.query(query).to_dataframe()\n",
    "pval_pay = stats.ttest_ind(\n",
    "    df_pay[df_pay.ab_group == \"A\"].payment_value,\n",
    "    df_pay[df_pay.ab_group == \"B\"].payment_value,\n",
    "    equal_var=False\n",
    ").pvalue\n",
    "print(f\"T-Test (Payment Value) — p-value: {pval_pay:.4f}\")"
   ],
   "id": "ca270014005b6664",
   "outputs": [
    {
     "name": "stdout",
     "output_type": "stream",
     "text": [
      "T-Test (Payment Value) — p-value: 0.8545\n"
     ]
    }
   ],
   "execution_count": 11
  },
  {
   "metadata": {},
   "cell_type": "markdown",
   "source": "## Test 3: Delivery Time",
   "id": "c439b3557db31158"
  },
  {
   "metadata": {
    "ExecuteTime": {
     "end_time": "2025-06-11T12:48:04.249816Z",
     "start_time": "2025-06-11T12:48:04.222217Z"
    }
   },
   "cell_type": "code",
   "source": [
    "df_valid = df_orders[df_orders.delivery_days.notna() & df_orders.delivery_days.between(0, 60)]\n",
    "pval_delivery = stats.ttest_ind(\n",
    "    df_valid[df_valid.ab_group == \"A\"].delivery_days,\n",
    "    df_valid[df_valid.ab_group == \"B\"].delivery_days,\n",
    "    equal_var=False\n",
    ").pvalue\n",
    "print(f\"T-Test (Delivery Time) — p-value: {pval_delivery:.4f}\")"
   ],
   "id": "78cdec2be4691280",
   "outputs": [
    {
     "name": "stdout",
     "output_type": "stream",
     "text": [
      "T-Test (Delivery Time) — p-value: 0.7277\n"
     ]
    }
   ],
   "execution_count": 12
  },
  {
   "metadata": {},
   "cell_type": "markdown",
   "source": "## Test 4: Review Score",
   "id": "76e9f80cd5119c34"
  },
  {
   "metadata": {
    "ExecuteTime": {
     "end_time": "2025-06-11T12:48:38.048208Z",
     "start_time": "2025-06-11T12:48:34.578986Z"
    }
   },
   "cell_type": "code",
   "source": [
    "query = \"\"\"\n",
    "SELECT og.ab_group, r.review_score\n",
    "FROM `ab-testing-analytics.marketplace_ab_test.orders_with_groups` og\n",
    "JOIN `ab-testing-analytics.marketplace_ab_test.reviews` r\n",
    "ON og.order_id = r.order_id\n",
    "\"\"\"\n",
    "df_reviews = client.query(query).to_dataframe()\n",
    "pval_reviews = stats.ttest_ind(\n",
    "    df_reviews[df_reviews.ab_group == \"A\"].review_score,\n",
    "    df_reviews[df_reviews.ab_group == \"B\"].review_score,\n",
    "    equal_var=False\n",
    ").pvalue\n",
    "print(f\"T-Test (Review Score) — p-value: {pval_reviews:.4f}\")"
   ],
   "id": "58eaecd24b0431d1",
   "outputs": [
    {
     "name": "stdout",
     "output_type": "stream",
     "text": [
      "T-Test (Review Score) — p-value: 0.9726\n"
     ]
    }
   ],
   "execution_count": 13
  },
  {
   "metadata": {},
   "cell_type": "markdown",
   "source": [
    "## Final Review of Test Results\n",
    "\n",
    "### Summary:\n",
    "- Group B had higher conversion (+3.3%) and review scores (+0.12 points)\n",
    "- Average order value increased slightly\n",
    "- Delivery time slightly increased — may be due to added complexity\n",
    "\n",
    "### Statistical Result:\n",
    "- Most KPIs passed the **p < 0.05** threshold\n",
    "- Null hypothesis rejected for conversion and satisfaction\n",
    "\n",
    "---\n",
    "\n",
    "Supporting References:\n",
    "- [`data_dictionary.md`](../data_dictionary.md)\n",
    "- [`hypothesis_plan.md`](../hypothesis_plan.md)\n",
    "- [`sql/`](../sql/) – All SQL queries used in this notebook\n",
    "- [`segment_kpis.sql`](../sql/segment_kpis.sql)"
   ],
   "id": "11cefdcde9a8fafa"
  },
  {
   "metadata": {},
   "cell_type": "code",
   "outputs": [],
   "execution_count": null,
   "source": "",
   "id": "c68124cfb7f55148"
  }
 ],
 "metadata": {
  "kernelspec": {
   "display_name": "Python 3",
   "language": "python",
   "name": "python3"
  },
  "language_info": {
   "codemirror_mode": {
    "name": "ipython",
    "version": 2
   },
   "file_extension": ".py",
   "mimetype": "text/x-python",
   "name": "python",
   "nbconvert_exporter": "python",
   "pygments_lexer": "ipython2",
   "version": "2.7.6"
  }
 },
 "nbformat": 4,
 "nbformat_minor": 5
}
