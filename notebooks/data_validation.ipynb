{
 "cells": [
  {
   "metadata": {},
   "cell_type": "markdown",
   "source": [
    "# Data Validation Notebook\n",
    "### Purpose: Validate the integrity of Olist marketplace data before A/B test analysis\n",
    "---"
   ],
   "id": "f64f0c57bf7424b9"
  },
  {
   "metadata": {
    "ExecuteTime": {
     "end_time": "2025-06-10T12:26:16.537599Z",
     "start_time": "2025-06-10T12:26:16.506438Z"
    }
   },
   "cell_type": "code",
   "source": [
    "## Setup: Import Libraries and Authenticate with BigQuery\n",
    "import os\n",
    "import pandas as pd\n",
    "from google.cloud import bigquery, bigquery_storage\n",
    "from dotenv import load_dotenv"
   ],
   "id": "9762315560aaba94",
   "outputs": [],
   "execution_count": 8
  },
  {
   "metadata": {
    "ExecuteTime": {
     "end_time": "2025-06-10T12:26:16.929498Z",
     "start_time": "2025-06-10T12:26:16.924693Z"
    }
   },
   "cell_type": "code",
   "source": [
    "# Load credentials and env variables\n",
    "load_dotenv()\n",
    "project_id = os.getenv(\"GCP_PROJECT_ID\")\n",
    "client = bigquery.Client(project=project_id)"
   ],
   "id": "42f5dcb04658725",
   "outputs": [],
   "execution_count": 9
  },
  {
   "metadata": {},
   "cell_type": "markdown",
   "source": "## Table size checks",
   "id": "9ae2d0f8f1f78ca2"
  },
  {
   "metadata": {
    "ExecuteTime": {
     "end_time": "2025-06-10T12:26:34.743298Z",
     "start_time": "2025-06-10T12:26:17.662834Z"
    }
   },
   "cell_type": "code",
   "source": [
    "tables = [\n",
    "    \"orders\", \"order_items\", \"payments\", \"reviews\",\n",
    "    \"customers\", \"sellers\", \"products\", \"geolocation\"\n",
    "]\n",
    "\n",
    "for table in tables:\n",
    "    query = f\"\"\"\n",
    "    SELECT COUNT(*) AS row_count FROM `{project_id}.marketplace_ab_test.{table}`\n",
    "    \"\"\"\n",
    "    result = client.query(query).to_dataframe()\n",
    "    print(f\"Table `{table}`: {result.row_count[0]} rows\")"
   ],
   "id": "45195c5c486caada",
   "outputs": [
    {
     "name": "stdout",
     "output_type": "stream",
     "text": [
      "Table `orders`: 99441 rows\n",
      "Table `order_items`: 112650 rows\n",
      "Table `payments`: 103886 rows\n",
      "Table `reviews`: 99224 rows\n",
      "Table `customers`: 99441 rows\n",
      "Table `sellers`: 3095 rows\n",
      "Table `products`: 32951 rows\n",
      "Table `geolocation`: 1000163 rows\n"
     ]
    }
   ],
   "execution_count": 10
  },
  {
   "metadata": {
    "ExecuteTime": {
     "end_time": "2025-06-10T12:26:36.766765Z",
     "start_time": "2025-06-10T12:26:34.763385Z"
    }
   },
   "cell_type": "code",
   "source": [
    "def check_nulls(table: str, fields: list[str]) -> pd.DataFrame:\n",
    "    field_checks = \", \".join([f\"COUNTIF({col} IS NULL) AS null_{col}\" for col in fields])\n",
    "    query = f\"SELECT {field_checks} FROM `{project_id}.marketplace_ab_test.{table}`\"\n",
    "    return client.query(query).to_dataframe()\n",
    "\n",
    "check_nulls(\"orders\", [\n",
    "    \"order_purchase_timestamp\", \"order_approved_at\",\n",
    "    \"order_delivered_customer_date\", \"order_estimated_delivery_date\"\n",
    "])"
   ],
   "id": "dfe94b8f68fc0f0e",
   "outputs": [
    {
     "data": {
      "text/plain": [
       "   null_order_purchase_timestamp  null_order_approved_at  \\\n",
       "0                              0                     160   \n",
       "\n",
       "   null_order_delivered_customer_date  null_order_estimated_delivery_date  \n",
       "0                                2965                                   0  "
      ],
      "text/html": [
       "<div>\n",
       "<style scoped>\n",
       "    .dataframe tbody tr th:only-of-type {\n",
       "        vertical-align: middle;\n",
       "    }\n",
       "\n",
       "    .dataframe tbody tr th {\n",
       "        vertical-align: top;\n",
       "    }\n",
       "\n",
       "    .dataframe thead th {\n",
       "        text-align: right;\n",
       "    }\n",
       "</style>\n",
       "<table border=\"1\" class=\"dataframe\">\n",
       "  <thead>\n",
       "    <tr style=\"text-align: right;\">\n",
       "      <th></th>\n",
       "      <th>null_order_purchase_timestamp</th>\n",
       "      <th>null_order_approved_at</th>\n",
       "      <th>null_order_delivered_customer_date</th>\n",
       "      <th>null_order_estimated_delivery_date</th>\n",
       "    </tr>\n",
       "  </thead>\n",
       "  <tbody>\n",
       "    <tr>\n",
       "      <th>0</th>\n",
       "      <td>0</td>\n",
       "      <td>160</td>\n",
       "      <td>2965</td>\n",
       "      <td>0</td>\n",
       "    </tr>\n",
       "  </tbody>\n",
       "</table>\n",
       "</div>"
      ]
     },
     "execution_count": 11,
     "metadata": {},
     "output_type": "execute_result"
    }
   ],
   "execution_count": 11
  },
  {
   "metadata": {},
   "cell_type": "markdown",
   "source": [
    "## 3. Referential Integrity Checks\n",
    "### Do all payments/reviews reference valid orders?"
   ],
   "id": "966e3453e1790164"
  },
  {
   "metadata": {
    "ExecuteTime": {
     "end_time": "2025-06-10T12:26:38.958836Z",
     "start_time": "2025-06-10T12:26:36.813475Z"
    }
   },
   "cell_type": "code",
   "source": [
    "# payment without matching orders\n",
    "query = f\"\"\"\n",
    "SELECT COUNT(*) AS unmatched_payments\n",
    "FROM `{project_id}.marketplace_ab_test.payments` p\n",
    "LEFT JOIN `{project_id}.marketplace_ab_test.orders` o\n",
    "ON p.order_id = o.order_id\n",
    "WHERE o.order_id IS NULL\n",
    "\"\"\"\n",
    "unmatched_payments = client.query(query).to_dataframe()\n",
    "print(f\"Payments Without orders: {unmatched_payments.unmatched_payments[0]}\")"
   ],
   "id": "bbc7f1fdf9ef048d",
   "outputs": [
    {
     "name": "stdout",
     "output_type": "stream",
     "text": [
      "Payments Without orders: 0\n"
     ]
    }
   ],
   "execution_count": 12
  },
  {
   "metadata": {},
   "cell_type": "markdown",
   "source": "## Reviews without matching orders",
   "id": "a26e3bd9e3f3b636"
  },
  {
   "metadata": {
    "ExecuteTime": {
     "end_time": "2025-06-10T12:26:40.967643Z",
     "start_time": "2025-06-10T12:26:39.000204Z"
    }
   },
   "cell_type": "code",
   "source": [
    "query = f\"\"\"\n",
    "SELECT COUNT(*) AS unmatched_reviews\n",
    "FROM `{project_id}.marketplace_ab_test.reviews` r\n",
    "LEFT JOIN `{project_id}.marketplace_ab_test.orders` o\n",
    "ON r.order_id = o.order_id\n",
    "WHERE o.order_id IS NULL\n",
    "\"\"\"\n",
    "\n",
    "unmatched_reviews = client.query(query).to_dataframe()\n",
    "print(f\"Reviews without orders: {unmatched_reviews.unmatched_reviews[0]}\")"
   ],
   "id": "a85ccf0d4368e9c3",
   "outputs": [
    {
     "name": "stdout",
     "output_type": "stream",
     "text": [
      "Reviews without orders: 0\n"
     ]
    }
   ],
   "execution_count": 13
  },
  {
   "metadata": {},
   "cell_type": "markdown",
   "source": "## Outlier Detection",
   "id": "cc45377e61186361"
  },
  {
   "metadata": {
    "ExecuteTime": {
     "end_time": "2025-06-10T12:26:43.052807Z",
     "start_time": "2025-06-10T12:26:40.994512Z"
    }
   },
   "cell_type": "code",
   "source": [
    "query = f\"\"\"\n",
    "SELECT MIN(payment_value) AS min_payment_value,\n",
    "MAX(payment_value) AS max_payment_value,\n",
    "AVG(payment_value) AS avg_payment_value,\n",
    "STDDEV(payment_value) AS std_dev_payment_value\n",
    "FROM `{project_id}.marketplace_ab_test.payments` p\n",
    "\"\"\"\n",
    "\n",
    "payment_stats = client.query(query).to_dataframe()\n",
    "payment_stats"
   ],
   "id": "edd684d5a155df87",
   "outputs": [
    {
     "data": {
      "text/plain": [
       "   min_payment_value  max_payment_value  avg_payment_value  \\\n",
       "0                0.0           13664.08          154.10038   \n",
       "\n",
       "   std_dev_payment_value  \n",
       "0             217.494064  "
      ],
      "text/html": [
       "<div>\n",
       "<style scoped>\n",
       "    .dataframe tbody tr th:only-of-type {\n",
       "        vertical-align: middle;\n",
       "    }\n",
       "\n",
       "    .dataframe tbody tr th {\n",
       "        vertical-align: top;\n",
       "    }\n",
       "\n",
       "    .dataframe thead th {\n",
       "        text-align: right;\n",
       "    }\n",
       "</style>\n",
       "<table border=\"1\" class=\"dataframe\">\n",
       "  <thead>\n",
       "    <tr style=\"text-align: right;\">\n",
       "      <th></th>\n",
       "      <th>min_payment_value</th>\n",
       "      <th>max_payment_value</th>\n",
       "      <th>avg_payment_value</th>\n",
       "      <th>std_dev_payment_value</th>\n",
       "    </tr>\n",
       "  </thead>\n",
       "  <tbody>\n",
       "    <tr>\n",
       "      <th>0</th>\n",
       "      <td>0.0</td>\n",
       "      <td>13664.08</td>\n",
       "      <td>154.10038</td>\n",
       "      <td>217.494064</td>\n",
       "    </tr>\n",
       "  </tbody>\n",
       "</table>\n",
       "</div>"
      ]
     },
     "execution_count": 14,
     "metadata": {},
     "output_type": "execute_result"
    }
   ],
   "execution_count": 14
  },
  {
   "metadata": {
    "ExecuteTime": {
     "end_time": "2025-06-10T12:26:43.095836Z",
     "start_time": "2025-06-10T12:26:43.094026Z"
    }
   },
   "cell_type": "code",
   "source": "",
   "id": "a68a50a2b8a646f4",
   "outputs": [],
   "execution_count": null
  },
  {
   "metadata": {},
   "cell_type": "code",
   "outputs": [],
   "execution_count": null,
   "source": "",
   "id": "9fc58493e2263f61"
  }
 ],
 "metadata": {},
 "nbformat": 4,
 "nbformat_minor": 5
}
